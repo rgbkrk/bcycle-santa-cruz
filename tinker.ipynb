{
 "cells": [
  {
   "cell_type": "code",
   "execution_count": 5,
   "metadata": {},
   "outputs": [],
   "source": [
    "const endpoints = await fetch(\n",
    "  \"https://gbfs.bcycle.com/bcycle_santacruz/gbfs.json\"\n",
    ").then((x) => x.json());\n"
   ]
  },
  {
   "cell_type": "code",
   "execution_count": 6,
   "metadata": {},
   "outputs": [
    {
     "name": "stdout",
     "output_type": "stream",
     "text": [
      "gbfs https://gbfs.bcycle.com/bcycle_santacruz/gbfs.json\n",
      "gbfs_versions https://gbfs.bcycle.com/bcycle_santacruz/gbfs_versions.json\n",
      "system_information https://gbfs.bcycle.com/bcycle_santacruz/system_information.json\n",
      "station_information https://gbfs.bcycle.com/bcycle_santacruz/station_information.json\n",
      "station_status https://gbfs.bcycle.com/bcycle_santacruz/station_status.json\n",
      "system_pricing_plans https://gbfs.bcycle.com/bcycle_santacruz/system_pricing_plans.json\n",
      "system_regions https://gbfs.bcycle.com/bcycle_santacruz/system_regions.json\n"
     ]
    }
   ],
   "source": [
    "for (let endpoint of endpoints.data.en.feeds) {\n",
    "  console.log(endpoint.name, endpoint.url);\n",
    "  // const data = await fetch(endpoint.url).then((x) => x.json());\n",
    "  //console.log(data);\n",
    "}\n"
   ]
  },
  {
   "cell_type": "code",
   "execution_count": 24,
   "metadata": {},
   "outputs": [],
   "source": [
    "async function collectMore() {\n",
    "  let station_status = await fetch(\n",
    "    \"https://gbfs.bcycle.com/bcycle_santacruz/station_status.json\"\n",
    "  ).then((x) => x.json());\n",
    "\n",
    "  let station_information = await fetch(\n",
    "    \"https://gbfs.bcycle.com/bcycle_santacruz/station_information.json\"\n",
    "  ).then((x) => x.json());\n",
    "\n",
    "  let stations = station_information.data.stations.map((station) => {\n",
    "    return {\n",
    "      ...station,\n",
    "      ...station_status.data.stations.find(\n",
    "        (x) => x.station_id == station.station_id\n",
    "      ),\n",
    "    };\n",
    "  });\n",
    "\n",
    "  await Deno.mkdir(\"data\", { recursive: true });\n",
    "\n",
    "  await Deno.writeTextFile(\n",
    "    `data/stations-${station_status.last_updated}.json`,\n",
    "    JSON.stringify(stations, null, 2)\n",
    "  );\n",
    "}\n"
   ]
  },
  {
   "cell_type": "code",
   "execution_count": 25,
   "metadata": {},
   "outputs": [],
   "source": [
    "// Run collection every 5 minutes\n",
    "\n",
    "let interval = 1000 * 60 * 5;\n",
    "\n",
    "setInterval(collectMore, interval);\n"
   ]
  },
  {
   "cell_type": "code",
   "execution_count": null,
   "metadata": {},
   "outputs": [],
   "source": []
  }
 ],
 "metadata": {
  "kernelspec": {
   "display_name": "Deno",
   "language": "typescript",
   "name": "deno"
  },
  "language_info": {
   "file_extension": ".ts",
   "mimetype": "text/x.typescript",
   "name": "typescript",
   "nb_converter": "script",
   "pygments_lexer": "typescript",
   "version": "5.2.2"
  }
 },
 "nbformat": 4,
 "nbformat_minor": 2
}
