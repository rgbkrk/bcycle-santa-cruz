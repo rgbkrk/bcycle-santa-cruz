{
 "cells": [
  {
   "cell_type": "code",
   "execution_count": 1,
   "id": "066c164b",
   "metadata": {
    "vscode": {
     "languageId": "typescript"
    }
   },
   "outputs": [
    {
     "data": {
      "application/vnd.dataresource+json": {
       "bytes": null,
       "data": [
        {
         "_bcycle_station_type": "3.0 Dock Station",
         "address": "Parking Lot",
         "is_installed": 1,
         "is_renting": 1,
         "is_returning": 1,
         "last_reported": {},
         "lat": 36.95705,
         "lon": -121.97804,
         "name": "Pleasure Point - Moran Lake Park",
         "num_bikes_available": 1,
         "num_docks_available": 4,
         "region_id": "bcycle_santacruz_region_81",
         "station_id": "bcycle_santacruz_7700"
        },
        {
         "_bcycle_station_type": "3.0 Dock Station",
         "address": "Parking Lot 126",
         "is_installed": 1,
         "is_renting": 1,
         "is_returning": 1,
         "last_reported": {},
         "lat": 36.99329,
         "lon": -122.06114,
         "name": "UCSC – Lot 126 (Arts)",
         "num_bikes_available": 0,
         "num_docks_available": 6,
         "region_id": "bcycle_santacruz_region_49",
         "station_id": "bcycle_santacruz_7520"
        },
        {
         "_bcycle_station_type": "3.0 Dock Station",
         "address": "King St",
         "is_installed": 1,
         "is_renting": 1,
         "is_returning": 1,
         "last_reported": {},
         "lat": 36.96803,
         "lon": -122.04326,
         "name": "Santa Cruz – Bay & King",
         "num_bikes_available": 7,
         "num_docks_available": 1,
         "region_id": "bcycle_santacruz_region_72",
         "station_id": "bcycle_santacruz_7527"
        }
       ],
       "description": null,
       "dialect": null,
       "encoding": null,
       "format": null,
       "hash": null,
       "homepage": null,
       "licenses": null,
       "mediatype": null,
       "path": null,
       "schema": {
        "fields": [
         {
          "constraints": null,
          "description": null,
          "example": null,
          "format": null,
          "name": "lon",
          "rdfType": null,
          "title": null,
          "type": "number"
         },
         {
          "constraints": null,
          "description": null,
          "example": null,
          "format": null,
          "name": "lat",
          "rdfType": null,
          "title": null,
          "type": "number"
         },
         {
          "constraints": null,
          "description": null,
          "example": null,
          "format": null,
          "name": "_bcycle_station_type",
          "rdfType": null,
          "title": null,
          "type": "string"
         },
         {
          "constraints": null,
          "description": null,
          "example": null,
          "format": null,
          "name": "region_id",
          "rdfType": null,
          "title": null,
          "type": "string"
         },
         {
          "constraints": null,
          "description": null,
          "example": null,
          "format": null,
          "name": "address",
          "rdfType": null,
          "title": null,
          "type": "string"
         },
         {
          "constraints": null,
          "description": null,
          "example": null,
          "format": null,
          "name": "name",
          "rdfType": null,
          "title": null,
          "type": "string"
         },
         {
          "constraints": null,
          "description": null,
          "example": null,
          "format": null,
          "name": "station_id",
          "rdfType": null,
          "title": null,
          "type": "string"
         },
         {
          "constraints": null,
          "description": null,
          "example": null,
          "format": null,
          "name": "is_returning",
          "rdfType": null,
          "title": null,
          "type": "number"
         },
         {
          "constraints": null,
          "description": null,
          "example": null,
          "format": null,
          "name": "is_renting",
          "rdfType": null,
          "title": null,
          "type": "number"
         },
         {
          "constraints": null,
          "description": null,
          "example": null,
          "format": null,
          "name": "is_installed",
          "rdfType": null,
          "title": null,
          "type": "number"
         },
         {
          "constraints": null,
          "description": null,
          "example": null,
          "format": null,
          "name": "num_docks_available",
          "rdfType": null,
          "title": null,
          "type": "number"
         },
         {
          "constraints": null,
          "description": null,
          "example": null,
          "format": null,
          "name": "num_bikes_available",
          "rdfType": null,
          "title": null,
          "type": "number"
         },
         {
          "constraints": null,
          "description": null,
          "example": null,
          "format": null,
          "name": "last_reported",
          "rdfType": null,
          "title": null,
          "type": "string"
         }
        ],
        "foreignKeys": null,
        "missingValues": null,
        "primaryKey": null
       },
       "sources": null,
       "title": null
      },
      "text/html": [
       "<table><thead><tr><th>lon</th><th>lat</th><th>_bcycle_station_type</th><th>region_id</th><th>address</th><th>name</th><th>station_id</th><th>is_returning</th><th>is_renting</th><th>is_installed</th><th>num_docks_available</th><th>num_bikes_available</th><th>last_reported</th></tr></thead><tbody><tr><td>-121.97804</td><td>36.95705</td><td>3.0 Dock Station</td><td>bcycle_santacruz_region_81</td><td>Parking Lot</td><td>Pleasure Point - Moran Lake Park</td><td>bcycle_santacruz_7700</td><td>1</td><td>1</td><td>1</td><td>4</td><td>1</td><td>Tue Sep 03 2024 04:25:17 GMT-0500 (Central Daylight Time)</td></tr><tr><td>-122.06114</td><td>36.99329</td><td>3.0 Dock Station</td><td>bcycle_santacruz_region_49</td><td>Parking Lot 126</td><td>UCSC – Lot 126 (Arts)</td><td>bcycle_santacruz_7520</td><td>1</td><td>1</td><td>1</td><td>6</td><td>0</td><td>Fri Mar 15 2024 09:01:36 GMT-0500 (Central Daylight Time)</td></tr><tr><td>-122.04326</td><td>36.96803</td><td>3.0 Dock Station</td><td>bcycle_santacruz_region_72</td><td>King St</td><td>Santa Cruz – Bay &amp; King</td><td>bcycle_santacruz_7527</td><td>1</td><td>1</td><td>1</td><td>1</td><td>7</td><td>Thu Feb 29 2024 17:13:57 GMT-0600 (Central Standard Time)</td></tr></tbody></table>"
      ]
     },
     "execution_count": 1,
     "metadata": {},
     "output_type": "execute_result"
    }
   ],
   "source": [
    "import pl from \"npm:nodejs-polars\";\n",
    "import Plot from \"https://deno.land/x/plot/mod.ts\";\n",
    "let bcycle_df = await pl.readParquet(\"../bcycle_data_combined.parquet\");\n",
    "bcycle_df.sample(3);"
   ]
  },
  {
   "cell_type": "code",
   "execution_count": null,
   "id": "5acacd5d",
   "metadata": {
    "vscode": {
     "languageId": "typescript"
    }
   },
   "outputs": [],
   "source": [
    "// Display DataFrame info\n",
    "console.log(bcycle_df.schema);\n",
    "console.log(`Number of rows: ${bcycle_df.height}`);\n",
    "console.log(`Number of columns: ${bcycle_df.width}`);"
   ]
  },
  {
   "cell_type": "code",
   "execution_count": null,
   "id": "cf0cb726",
   "metadata": {},
   "outputs": [],
   "source": [
    "// Display summary statistics\n",
    "bcycle_df.describe().toString();"
   ]
  },
  {
   "cell_type": "code",
   "execution_count": null,
   "id": "79eeb481",
   "metadata": {},
   "outputs": [],
   "source": [
    "// Check for missing values\n",
    "bcycle_df.nullCount().toString();"
   ]
  },
  {
   "cell_type": "code",
   "execution_count": null,
   "id": "27c620f7",
   "metadata": {},
   "outputs": [],
   "source": [
    "// Distribution of the number of bikes available\n",
    "const bikes_available_data = bcycle_df\n",
    "  .select(\"num_bikes_available\")\n",
    "  .toRecords();\n",
    "\n",
    "Plot.plot({\n",
    "  marks: [\n",
    "    Plot.rectY(\n",
    "      bikes_available_data,\n",
    "      Plot.binX({ y: \"count\" }, { x: \"num_bikes_available\" }),\n",
    "    ),\n",
    "    Plot.lineY(\n",
    "      bikes_available_data,\n",
    "      Plot.binX({ y: \"count\" }, { x: \"num_bikes_available\", curve: \"basis\" }),\n",
    "    ),\n",
    "  ],\n",
    "  x: { label: \"Number of Bikes Available\" },\n",
    "  y: { label: \"Frequency\" },\n",
    "  title: \"Distribution of Number of Bikes Available\",\n",
    "});"
   ]
  },
  {
   "cell_type": "code",
   "execution_count": null,
   "id": "86ceaedb",
   "metadata": {
    "lines_to_next_cell": 0
   },
   "outputs": [],
   "source": [
    "// Distribution of the number of docks available\n",
    "const docks_available_data = bcycle_df\n",
    "  .select(\"num_docks_available\")\n",
    "  .toRecords();\n",
    "\n",
    "Plot.plot({\n",
    "  marks: [\n",
    "    Plot.rectY(\n",
    "      docks_available_data,\n",
    "      Plot.binX({ y: \"count\" }, { x: \"num_docks_available\" }),\n",
    "    ),\n",
    "    Plot.lineY(\n",
    "      docks_available_data,\n",
    "      Plot.binX({ y: \"count\" }, { x: \"num_docks_available\", curve: \"basis\" }),\n",
    "    ),\n",
    "  ],\n",
    "  x: { label: \"Number of Docks Available\" },\n",
    "  y: { label: \"Frequency\" },\n",
    "  title: \"Distribution of Number of Docks Available\",\n",
    "});"
   ]
  },
  {
   "cell_type": "code",
   "execution_count": null,
   "id": "3a45b77a",
   "metadata": {},
   "outputs": [],
   "source": [
    "// Note for self\n",
    "// bcycle_df.filter(pl.col(\"station_id\").eq(\"bcycle_santacruz_7431\")) // Must wrap in `pl.lit`\n",
    "// bcycle_df.filter(pl.col(\"station_id\").eq(pl.lit(\"bcycle_santacruz_7431\")));"
   ]
  },
  {
   "cell_type": "code",
   "execution_count": null,
   "id": "3e6f60bf",
   "metadata": {},
   "outputs": [],
   "source": [
    "// Number of bikes available over time for a specific station\n",
    "const station_id = pl.lit(\"bcycle_santacruz_7431\");\n",
    "const station_data = bcycle_df\n",
    "  .filter(pl.col(\"station_id\").eq(station_id))\n",
    "  .select([\"last_reported\", \"num_bikes_available\"])\n",
    "  .toRecords();\n",
    "\n",
    "Plot.plot({\n",
    "  marks: [\n",
    "    Plot.line(station_data, { x: \"last_reported\", y: \"num_bikes_available\" }),\n",
    "  ],\n",
    "  x: { label: \"Time\", tickRotate: 45 },\n",
    "  y: { label: \"Number of Bikes Available\" },\n",
    "  title: `Number of Bikes Available Over Time for Station ID: ${station_id}`,\n",
    "});"
   ]
  },
  {
   "cell_type": "code",
   "execution_count": null,
   "id": "7cb8aa58",
   "metadata": {},
   "outputs": [],
   "source": [
    "// Number of docks available over time for a specific station\n",
    "Plot.plot({\n",
    "  marks: [\n",
    "    Plot.line(station_data, { x: \"last_reported\", y: \"num_docks_available\" }),\n",
    "  ],\n",
    "  x: { label: \"Time\", tickRotate: 45 },\n",
    "  y: { label: \"Number of Docks Available\" },\n",
    "  title: `Number of Docks Available Over Time for Station ID: ${station_id}`,\n",
    "});"
   ]
  },
  {
   "cell_type": "code",
   "execution_count": null,
   "id": "86f8e97b",
   "metadata": {},
   "outputs": [],
   "source": [
    "// Average number of bikes available per station\n",
    "const avg_bikes_per_station = bcycle_df\n",
    "  .groupBy(\"station_id\")\n",
    "  .agg(pl.col(\"num_bikes_available\").mean().alias(\"avg_bikes\"))\n",
    "  .sort(\"avg_bikes\", false)\n",
    "  .toRecords();\n",
    "\n",
    "Plot.plot({\n",
    "  marks: [\n",
    "    Plot.barX(avg_bikes_per_station, { x: \"avg_bikes\", y: \"station_id\" }),\n",
    "  ],\n",
    "  x: { label: \"Average Number of Bikes Available\" },\n",
    "  y: { label: \"Station ID\" },\n",
    "  title: \"Average Number of Bikes Available per Station\",\n",
    "});"
   ]
  },
  {
   "cell_type": "code",
   "execution_count": null,
   "id": "27ef042a",
   "metadata": {
    "lines_to_next_cell": 0
   },
   "outputs": [],
   "source": [
    "// Average number of docks available per station\n",
    "const avg_docks_per_station = bcycle_df\n",
    "  .groupBy(\"station_id\")\n",
    "  .agg(pl.col(\"num_docks_available\").mean().alias(\"avg_docks\"))\n",
    "  .sort(\"avg_docks\", false)\n",
    "  .toRecords();\n",
    "\n",
    "Plot.plot({\n",
    "  marks: [\n",
    "    Plot.barX(avg_docks_per_station, { x: \"avg_docks\", y: \"station_id\" }),\n",
    "  ],\n",
    "  x: { label: \"Average Number of Docks Available\" },\n",
    "  y: { label: \"Station ID\" },\n",
    "  title: \"Average Number of Docks Available per Station\",\n",
    "});"
   ]
  },
  {
   "cell_type": "code",
   "execution_count": null,
   "id": "249562e5",
   "metadata": {
    "lines_to_next_cell": 0
   },
   "outputs": [],
   "source": []
  },
  {
   "cell_type": "code",
   "execution_count": null,
   "id": "1d7bd0c1",
   "metadata": {},
   "outputs": [],
   "source": [
    "\n",
    "let df_with_time = bcycle_df.withColumn(\n",
    "  \"last_reported\",\n",
    "  pl.col(\"last_reported\").cast(\"datetime\"),\n",
    ");"
   ]
  },
  {
   "cell_type": "code",
   "execution_count": null,
   "id": "cd1dd395",
   "metadata": {},
   "outputs": [],
   "source": [
    "// Average number of bikes available by day of week and hour\n",
    "const heatmap_data_bikes = df_with_time\n",
    "  .groupBy([\"day_of_week\", \"hour\"])\n",
    "  .agg(pl.col(\"num_bikes_available\").mean().alias(\"avg_bikes\"))\n",
    "  .sort([\"day_of_week\", \"hour\"])\n",
    "  .toRecords();\n",
    "\n",
    "Plot.plot({\n",
    "  color: { scheme: \"viridis\" },\n",
    "  marks: [\n",
    "    Plot.cell(heatmap_data_bikes, {\n",
    "      x: \"hour\",\n",
    "      y: \"day_of_week\",\n",
    "      fill: \"avg_bikes\",\n",
    "      inset: 0.5,\n",
    "    }),\n",
    "    Plot.text(heatmap_data_bikes, {\n",
    "      x: \"hour\",\n",
    "      y: \"day_of_week\",\n",
    "      text: (d) => d.avg_bikes.toFixed(1),\n",
    "      fill: \"white\",\n",
    "    }),\n",
    "  ],\n",
    "  x: { label: \"Hour of Day\" },\n",
    "  y: { label: \"Day of Week\" },\n",
    "  title: \"Average Number of Bikes Available by Day of Week and Hour\",\n",
    "});"
   ]
  },
  {
   "cell_type": "code",
   "execution_count": null,
   "id": "6d1391ce",
   "metadata": {},
   "outputs": [],
   "source": [
    "// Average number of docks available by day of week and hour\n",
    "const heatmap_data_docks = df_with_time\n",
    "  .groupBy([\"day_of_week\", \"hour\"])\n",
    "  .agg(pl.col(\"num_docks_available\").mean().alias(\"avg_docks\"))\n",
    "  .sort([\"day_of_week\", \"hour\"])\n",
    "  .toRecords();\n",
    "\n",
    "Plot.plot({\n",
    "  color: { scheme: \"viridis\" },\n",
    "  marks: [\n",
    "    Plot.cell(heatmap_data_docks, {\n",
    "      x: \"hour\",\n",
    "      y: \"day_of_week\",\n",
    "      fill: \"avg_docks\",\n",
    "      inset: 0.5,\n",
    "    }),\n",
    "    Plot.text(heatmap_data_docks, {\n",
    "      x: \"hour\",\n",
    "      y: \"day_of_week\",\n",
    "      text: (d) => d.avg_docks.toFixed(1),\n",
    "      fill: \"white\",\n",
    "    }),\n",
    "  ],\n",
    "  x: { label: \"Hour of Day\" },\n",
    "  y: { label: \"Day of Week\" },\n",
    "  title: \"Average Number of Docks Available by Day of Week and Hour\",\n",
    "});"
   ]
  }
 ],
 "metadata": {
  "jupytext": {
   "cell_metadata_filter": "-all",
   "main_language": "typescript",
   "notebook_metadata_filter": "-all"
  },
  "language_info": {
   "name": "python"
  }
 },
 "nbformat": 4,
 "nbformat_minor": 5
}
